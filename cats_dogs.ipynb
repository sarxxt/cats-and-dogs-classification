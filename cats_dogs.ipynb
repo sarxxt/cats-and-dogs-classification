{
 "cells": [
  {
   "cell_type": "code",
   "execution_count": 7,
   "metadata": {},
   "outputs": [],
   "source": [
    "import numpy as np\n",
    "import cv2\n",
    "import os\n",
    "import random\n",
    "import matplotlib.pyplot as plt\n",
    "import pickle"
   ]
  },
  {
   "cell_type": "code",
   "execution_count": 10,
   "metadata": {},
   "outputs": [],
   "source": [
    "DIRECTORY = r'D:\\downloads\\dataset\\training_set'\n",
    "CATEGORIES = ['cat', 'dog']"
   ]
  },
  {
   "cell_type": "code",
   "execution_count": 25,
   "metadata": {},
   "outputs": [],
   "source": [
    "IMG_SIZE =100\n",
    "data=[]\n",
    "for category in CATEGORIES:\n",
    "    folder = os.path.join(DIRECTORY, category)\n",
    "    label =CATEGORIES.index(category)\n",
    "    for img in os.listdir(folder):\n",
    "        img_path = os.path.join(folder, img)\n",
    "        img_arr = cv2.imread(img_path)\n",
    "        img_arr =cv2.resize(img_arr, (IMG_SIZE, IMG_SIZE))\n",
    "        data.append([img_arr, label])"
   ]
  },
  {
   "cell_type": "code",
   "execution_count": 26,
   "metadata": {},
   "outputs": [
    {
     "data": {
      "text/plain": [
       "8000"
      ]
     },
     "execution_count": 26,
     "metadata": {},
     "output_type": "execute_result"
    }
   ],
   "source": [
    "len(data)"
   ]
  },
  {
   "cell_type": "code",
   "execution_count": 27,
   "metadata": {},
   "outputs": [],
   "source": [
    "random.shuffle(data)"
   ]
  },
  {
   "cell_type": "code",
   "execution_count": 28,
   "metadata": {},
   "outputs": [
    {
     "data": {
      "text/plain": [
       "[array([[[ 56,  53,  69],\n",
       "         [ 60,  54,  80],\n",
       "         [ 53,  50,  81],\n",
       "         ...,\n",
       "         [ 62,  78,  94],\n",
       "         [ 61,  85,  97],\n",
       "         [ 59,  87,  94]],\n",
       " \n",
       "        [[ 59,  63,  61],\n",
       "         [ 64,  58,  82],\n",
       "         [ 64,  60,  96],\n",
       "         ...,\n",
       "         [ 65,  87,  98],\n",
       "         [ 64,  95,  98],\n",
       "         [ 69, 100, 101]],\n",
       " \n",
       "        [[ 58,  62,  60],\n",
       "         [ 68,  60,  91],\n",
       "         [ 58,  56,  88],\n",
       "         ...,\n",
       "         [ 82, 119, 110],\n",
       "         [ 89, 129, 119],\n",
       "         [ 80, 119, 111]],\n",
       " \n",
       "        ...,\n",
       " \n",
       "        [[241, 253, 255],\n",
       "         [239, 254, 255],\n",
       "         [246, 254, 255],\n",
       "         ...,\n",
       "         [ 62,  66,  60],\n",
       "         [ 68,  81,  62],\n",
       "         [ 78,  93,  72]],\n",
       " \n",
       "        [[251, 251, 251],\n",
       "         [235, 243, 242],\n",
       "         [249, 254, 254],\n",
       "         ...,\n",
       "         [ 62,  76,  59],\n",
       "         [ 85,  95,  82],\n",
       "         [ 41,  49,  39]],\n",
       " \n",
       "        [[255, 255, 255],\n",
       "         [255, 255, 255],\n",
       "         [254, 254, 254],\n",
       "         ...,\n",
       "         [ 95, 104,  91],\n",
       "         [ 64,  71,  63],\n",
       "         [ 23,  31,  21]]], dtype=uint8),\n",
       " 1]"
      ]
     },
     "execution_count": 28,
     "metadata": {},
     "output_type": "execute_result"
    }
   ],
   "source": [
    "data[0]"
   ]
  },
  {
   "cell_type": "code",
   "execution_count": 29,
   "metadata": {},
   "outputs": [],
   "source": [
    "x=[]\n",
    "y=[]\n",
    "for features, labels in data:\n",
    "    x.append(features)\n",
    "    y.append(labels)"
   ]
  },
  {
   "cell_type": "code",
   "execution_count": 30,
   "metadata": {},
   "outputs": [],
   "source": [
    "x= np.array(x)\n",
    "y= np.array(y)"
   ]
  },
  {
   "cell_type": "code",
   "execution_count": 32,
   "metadata": {},
   "outputs": [
    {
     "data": {
      "text/plain": [
       "8000"
      ]
     },
     "execution_count": 32,
     "metadata": {},
     "output_type": "execute_result"
    }
   ],
   "source": [
    "len(x)"
   ]
  },
  {
   "cell_type": "code",
   "execution_count": 33,
   "metadata": {},
   "outputs": [],
   "source": [
    "pickle.dump(x, open('x.pkl', 'wb'))\n",
    "pickle.dump(y, open('y.pkl', 'wb'))"
   ]
  },
  {
   "cell_type": "code",
   "execution_count": null,
   "metadata": {},
   "outputs": [],
   "source": []
  }
 ],
 "metadata": {
  "kernelspec": {
   "display_name": "Python 3",
   "language": "python",
   "name": "python3"
  },
  "language_info": {
   "codemirror_mode": {
    "name": "ipython",
    "version": 3
   },
   "file_extension": ".py",
   "mimetype": "text/x-python",
   "name": "python",
   "nbconvert_exporter": "python",
   "pygments_lexer": "ipython3",
   "version": "3.10.5"
  },
  "orig_nbformat": 4
 },
 "nbformat": 4,
 "nbformat_minor": 2
}
